{
 "cells": [
  {
   "cell_type": "markdown",
   "id": "78561e88",
   "metadata": {},
   "source": [
    "# MLOps"
   ]
  },
  {
   "cell_type": "markdown",
   "id": "e2260738",
   "metadata": {},
   "source": [
    "### Definición"
   ]
  },
  {
   "cell_type": "markdown",
   "id": "9598ca70",
   "metadata": {},
   "source": [
    "**MLOps** (Machine Learning Operations) es la práctica que integra el desarrollo y la operación de modelos de machine learning con el fin de automatizar y estandarizar su ciclo de vida. Esto incluye desde la preparación y entrenamiento, hasta sus resultados, usando pipelines, control de versiones y pruebas automatizadas. Su objetivo es garantizar reproducibilidad, reducir errores, acelerar entregas y facilitar la gestión a gran escala de modelos de machine learning."
   ]
  },
  {
   "cell_type": "markdown",
   "id": "1d3dc38b",
   "metadata": {},
   "source": [
    "___"
   ]
  },
  {
   "cell_type": "markdown",
   "id": "22975562",
   "metadata": {},
   "source": [
    "### ¿Por qué se utilizan?"
   ]
  },
  {
   "cell_type": "markdown",
   "id": "1ad413b1",
   "metadata": {},
   "source": [
    "- MLOps es fundamental para manejar de forma organizada las actualizaciones de los modelos de machine learning al mismo tiempo que los cambios en el código y en los datos.\n",
    "\n",
    "- Una buena implementación de MLOps trata los modelos de ML como si fueran parte del software, usando prácticas de integración y entrega continua (CI/CD).\n",
    "\n",
    "- Los modelos de ML se publican junto con las aplicaciones y servicios que los usan, todo en un mismo proceso de lanzamiento."
   ]
  },
  {
   "cell_type": "markdown",
   "id": "382b7b28",
   "metadata": {},
   "source": [
    "___"
   ]
  },
  {
   "cell_type": "markdown",
   "id": "b018208b",
   "metadata": {},
   "source": [
    "### Principios de las MLOps"
   ]
  },
  {
   "cell_type": "markdown",
   "id": "f1ac1f8d",
   "metadata": {},
   "source": [
    "- `Control de versiones:` Seguimiento de los cambios en los activos de machine learning para poder reproducir los resultados y volver a usar versiones anteriores si es necesario. Cada fase debería producir resultados idénticos con la misma entrada.\n",
    "\n",
    "- `Automation:` Automatizar diversas etapas de la canalización de machine learning para garantizar la repetibilidad, la coherencia y la escalabilidad, las pruebas automatizadas permiten descubrir problemas de forma temprana para corregir errores y aprender rápidamente.\n",
    "\n",
    "- `Actividades continuas:` A través de la automatización, se puede ejecutar pruebas e implementar código de forma continua en toda su canalización de ML, existen cuatro actividades si hay algún cambio en el sistema:\n",
    "\n",
    "1. *integración continua* \n",
    "2. *entrega continua*\n",
    "3. *entrenamiento continuo*\n",
    "4. *monitoreo continuo*"
   ]
  },
  {
   "cell_type": "markdown",
   "id": "b194edf3",
   "metadata": {},
   "source": [
    "___\n"
   ]
  },
  {
   "cell_type": "markdown",
   "id": "66a49e9c",
   "metadata": {},
   "source": [
    "### Gobernanza de los modelos"
   ]
  },
  {
   "cell_type": "markdown",
   "id": "94faecbb",
   "metadata": {},
   "source": [
    "- Fomentar una estrecha colaboración entre los científicos de datos, los ingenieros y las partes interesadas de la empresa.\n",
    "\n",
    "- Establecer mecanismos para recopilar comentarios sobre las predicciones de los modelos y entrenarlos de mejor manera.\n",
    "\n",
    "- Asegurar de que los datos confidenciales estén protegidos, que el acceso a los modelos y la infraestructura sea seguro, y que se cumplan los requisitos de conformidad."
   ]
  },
  {
   "cell_type": "markdown",
   "id": "3ab2652f",
   "metadata": {},
   "source": [
    "### Beneficios de los MLOps"
   ]
  },
  {
   "cell_type": "markdown",
   "id": "12871956",
   "metadata": {},
   "source": [
    "- `Reducción del plazo de comercialización:` \n",
    "Las MLOps ofrecen un macro que ayuda a alcanzar los objetivos de ciencia de datos de manera más rápida y eficiente.\n",
    "\n",
    "- `Productividad mejorada:` \n",
    "Las prácticas de MLOps aumentan la productividad y aceleran el desarrollo de modelos de machine learning, utilizados para crear procesos repetibles. \n",
    "\n",
    "- `Eficiencia en la implementación de modelos:`\n",
    "Las MLOps mejoran la resolución de problemas y la administración de modelos en producción, buscan elegir la versión más adecuada de un modelo para diferentes casos de usos empresariales."
   ]
  },
  {
   "cell_type": "markdown",
   "id": "cedd552f",
   "metadata": {},
   "source": [
    "___"
   ]
  },
  {
   "cell_type": "markdown",
   "id": "2c59c343",
   "metadata": {},
   "source": [
    "### Implementación"
   ]
  },
  {
   "cell_type": "markdown",
   "id": "804aed60",
   "metadata": {},
   "source": [
    "- `Nivel 0 de MLOps:` Son procesos manuales, los científicos de datos preparan, entrenan y validan los modelos de forma interactiva, y luego entregan los modelos a los ingenieros para implementarlos. Los lanzamientos son poco frecuentes, no hay integración continua con el código de la aplicación, y no se realiza un monitoreo activo del rendimiento, lo que limita la frecuencia de actualizaciones y la automatización del ciclo de vida del modelo.\n",
    "\n",
    "- `Nivel 1 de MLOps:`Automatiza el entrenamiento y despliegue continuo de modelos con datos nuevos. Incluye canalizaciones recurrentes, colaboración entre científicos de datos e ingenieros para crear componentes reutilizables, un almacén de características centralizado y gestión de metadatos, lo que permite mantener los modelos actualizados y trazables en todos los entornos.\n",
    "\n",
    "- `Nivel 2 de MLOps:`Permite experimentar y actualizar modelos de manera continua y a gran escala, entrenándolos con frecuencia y desplegándolos en múltiples servidores. Requiere la infraestructura del nivel 1 más un orquestador de canalizaciones y un registro de modelos. Las canalizaciones se crean mediante experimentos iterativos, se implementan tras las pruebas y se usan como servicios de predicción, recolectando datos en tiempo real que pueden activar nuevos entrenamientos o ciclos de experimentación."
   ]
  },
  {
   "cell_type": "markdown",
   "id": "85bbc17d",
   "metadata": {},
   "source": [
    "___"
   ]
  },
  {
   "cell_type": "markdown",
   "id": "a80e50d5",
   "metadata": {},
   "source": [
    "### Diferencias entre MLOps y DevOps"
   ]
  },
  {
   "cell_type": "markdown",
   "id": "4d10e5cb",
   "metadata": {},
   "source": [
    "- Las DevOps tienen como objetivo cerrar la brecha entre los equipos de desarrollo y operaciones, automatizando pruebas e implementaciones.\n",
    "\n",
    "- Las MLOps son prácticas recomendadas específicas para proyectos de machine learning, enfocadas en la recopilación de datos, entrenamiento, validación e implementación continua de modelos.\n",
    "\n",
    "- Las MLOps incorporan los principios de DevOps al ML para una implementación más rápida y precisa de los modelos."
   ]
  },
  {
   "cell_type": "markdown",
   "id": "a5547edb",
   "metadata": {},
   "source": [
    "___"
   ]
  },
  {
   "cell_type": "markdown",
   "id": "5a257cc2",
   "metadata": {},
   "source": [
    "### AWS y MLOps"
   ]
  },
  {
   "cell_type": "markdown",
   "id": "fc160ed4",
   "metadata": {},
   "source": [
    "\n",
    "- Amazon SageMaker es un servicio totalmente administrado para preparar datos, crear, entrenar e implementar modelos de ML.\n",
    "\n",
    "- SageMaker proporciona herramientas diseñadas específicamente para que las MLOps automaticen los procesos a lo largo del ciclo de vida del ML.\n",
    "\n",
    "- SageMaker permite alcanzar rápidamente el nivel 2 de MLOps a escala."
   ]
  },
  {
   "cell_type": "markdown",
   "id": "95aa5b11",
   "metadata": {},
   "source": [
    "___"
   ]
  }
 ],
 "metadata": {
  "language_info": {
   "name": "python"
  }
 },
 "nbformat": 4,
 "nbformat_minor": 5
}
